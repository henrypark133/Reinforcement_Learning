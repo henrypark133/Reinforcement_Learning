{
 "cells": [
  {
   "cell_type": "code",
   "execution_count": 1,
   "metadata": {},
   "outputs": [],
   "source": [
    "import random\n",
    "import math\n",
    "import numpy as np\n",
    "import matplotlib.pyplot as plt"
   ]
  },
  {
   "cell_type": "markdown",
   "metadata": {},
   "source": [
    "# Part 1\n",
    "\n",
    "### Hyung C. Park (hcp084)"
   ]
  },
  {
   "cell_type": "markdown",
   "metadata": {},
   "source": [
    "### Enumeration"
   ]
  },
  {
   "cell_type": "code",
   "execution_count": 2,
   "metadata": {},
   "outputs": [],
   "source": [
    "val = [0]*201\n",
    "next_val = [0]*201\n",
    "discount_rate = 0.95\n",
    "\n",
    "for iteration in reversed(range(0, 501)):\n",
    "    for state in range(0,201):\n",
    "        possible_values_0 = []\n",
    "        possible_values_1 = []\n",
    "        for i in range(1,6):\n",
    "            possible_values_0 = []\n",
    "            possible_next_state = state + i\n",
    "            if (possible_next_state >= 0) and (possible_next_state <= 200):\n",
    "                possible_values_0.append(discount_rate * val[possible_next_state])\n",
    "            possible_next_state -= 15\n",
    "            if possible_next_state < 0:\n",
    "                possible_next_state = 0\n",
    "            possible_values_1.append(discount_rate * val[possible_next_state])\n",
    "        if (len(possible_values_0) > 0) and (len(possible_values_1) > 0):\n",
    "            next_val[state] = max([-2 * state + sum(possible_values_0) / len(possible_values_0),\n",
    "                              -2 * state - 100 + sum(possible_values_1) / len(possible_values_1)])\n",
    "        elif len(possible_values_0) > 0:\n",
    "            next_val[state] = -2 * state + sum(possible_values_0) / len(possible_values_0)\n",
    "        elif len(possible_values_1) > 0:\n",
    "            next_val[state] = -2 * state - 100 + sum(possible_values_1) / len(possible_values_1)\n",
    "    val = next_val.copy()"
   ]
  },
  {
   "cell_type": "code",
   "execution_count": 3,
   "metadata": {},
   "outputs": [
    {
     "data": {
      "text/plain": [
       "Text(0, 0.5, 'Optimal Value Function')"
      ]
     },
     "execution_count": 3,
     "metadata": {},
     "output_type": "execute_result"
    },
    {
     "data": {
      "image/png": "[encoded data removed]",
      "text/plain": [
       "<Figure size 432x288 with 1 Axes>"
      ]
     },
     "metadata": {
      "needs_background": "light"
     },
     "output_type": "display_data"
    }
   ],
   "source": [
    "plt.plot(range(0,201), val)\n",
    "plt.title(\"Enumeration\")\n",
    "plt.xlabel('Number of Customers Waiting')\n",
    "plt.ylabel('Optimal Value Function')"
   ]
  },
  {
   "cell_type": "code",
   "execution_count": 4,
   "metadata": {},
   "outputs": [],
   "source": [
    "val = [0]*201\n",
    "next_val = [0]*201\n",
    "discount_rate = 0.95\n",
    "epsil = 1e-15\n",
    "\n",
    "iteration = 0\n",
    "\n",
    "while True:\n",
    "#     for state in range(0,201):\n",
    "#         possible_values_0 = []\n",
    "#         possible_values_1 = []\n",
    "#         for i in range(1,6):\n",
    "#             possible_values_0 = []\n",
    "#             possible_next_state = state + i\n",
    "#             if (possible_next_state >= 0) and (possible_next_state <= 200):\n",
    "#                 possible_values_0.append(discount_rate * val[possible_next_state])\n",
    "#             possible_next_state -= 15\n",
    "#             if possible_next_state >= 0:\n",
    "#                 possible_values_1.append(discount_rate * val[possible_next_state])\n",
    "#         if (len(possible_values_0) > 0) and (len(possible_values_1) > 0):\n",
    "#             next_val[state] = max([-2 * state + sum(possible_values_0) / len(possible_values_0),\n",
    "#                               -2 * state - 50 + sum(possible_values_1) / len(possible_values_1)])\n",
    "#         elif len(possible_values_0) > 0:\n",
    "#             next_val[state] = -2 * state + sum(possible_values_0) / len(possible_values_0)\n",
    "#         elif len(possible_values_1) > 0:\n",
    "#             next_val[state] = -2 * state - 50 + sum(possible_values_1) / len(possible_values_1)\n",
    "#     if (np.sum(np.abs(np.array(val) - np.array(next_val))) < epsil):\n",
    "#         break\n",
    "#     val = next_val\n",
    "\n",
    "    for state in range(0,201):\n",
    "        possible_values_0 = []\n",
    "        possible_values_1 = []\n",
    "        for i in range(1,6):\n",
    "            possible_next_state = state + i\n",
    "            if (possible_next_state >= 0) and (possible_next_state <= 200):\n",
    "                possible_values_0.append(discount_rate * val[possible_next_state])\n",
    "            possible_next_state -= 15\n",
    "            if possible_next_state < 0:\n",
    "                possible_next_state = 0\n",
    "            possible_values_1.append(discount_rate * val[possible_next_state])\n",
    "        if (len(possible_values_0) > 0) and (len(possible_values_1) > 0):\n",
    "            next_val[state] = max([-2 * state + sum(possible_values_0) / len(possible_values_0),\n",
    "                              -2 * state - 100 + sum(possible_values_1) / len(possible_values_1)])\n",
    "        elif len(possible_values_0) > 0:\n",
    "            next_val[state] = -2 * state + sum(possible_values_0) / len(possible_values_0)\n",
    "        elif len(possible_values_1) > 0:\n",
    "            next_val[state] = -2 * state - 100 + sum(possible_values_1) / len(possible_values_1)\n",
    "    if (np.sum(np.abs(np.array(val) - np.array(next_val))) < epsil):\n",
    "        break\n",
    "    val = next_val.copy()\n",
    "    iteration += 1\n",
    "# val"
   ]
  },
  {
   "cell_type": "code",
   "execution_count": 5,
   "metadata": {},
   "outputs": [
    {
     "data": {
      "text/plain": [
       "Text(0, 0.5, 'Optimal Value Function')"
      ]
     },
     "execution_count": 5,
     "metadata": {},
     "output_type": "execute_result"
    },
    {
     "data": {
      "image/png": "[encoded data removed]",
      "text/plain": [
       "<Figure size 432x288 with 1 Axes>"
      ]
     },
     "metadata": {
      "needs_background": "light"
     },
     "output_type": "display_data"
    }
   ],
   "source": [
    "plt.plot(range(0,201), val)\n",
    "plt.title(\"Value Iteration\")\n",
    "plt.xlabel('Number of Customers Waiting')\n",
    "plt.ylabel('Optimal Value Function')"
   ]
  },
  {
   "cell_type": "code",
   "execution_count": 6,
   "metadata": {},
   "outputs": [],
   "source": [
    "val = [0]*201\n",
    "old_action = [0]*201\n",
    "new_action = [0]*201\n",
    "discount_rate = 0.95\n",
    "\n",
    "iteration = 0\n",
    "\n",
    "while True:\n",
    "    for state in range(0,201):\n",
    "        possible_values_0 = []\n",
    "        possible_values_1 = []\n",
    "        for i in range(1,6):\n",
    "            possible_next_state = state + i\n",
    "            if (possible_next_state >= 0) and (possible_next_state <= 200):\n",
    "                possible_values_0.append(discount_rate * val[possible_next_state])\n",
    "            possible_next_state -= 15\n",
    "            if possible_next_state < 0:\n",
    "                possible_next_state = 0\n",
    "            possible_values_1.append(discount_rate * val[possible_next_state])\n",
    "        if (len(possible_values_0) > 0) and (len(possible_values_1) > 0):\n",
    "            val[state] = max([-2 * state + sum(possible_values_0) / len(possible_values_0),\n",
    "                              -2 * state - 100 + sum(possible_values_1) / len(possible_values_1)])\n",
    "            new_action[state] = (-2 * state + sum(possible_values_0) / len(possible_values_0) < \\\n",
    "                              -2 * state - 100 + sum(possible_values_1) / len(possible_values_1)) * 1\n",
    "        elif len(possible_values_0) > 0:\n",
    "            val[state] = -2 * state + sum(possible_values_0) / len(possible_values_0)\n",
    "            new_action[state] = 0\n",
    "        elif len(possible_values_1) > 0:\n",
    "            val[state] = -2 * state - 100 + sum(possible_values_1) / len(possible_values_1)\n",
    "            new_action[state] = 1\n",
    "        \n",
    "    if (new_action == old_action) or iteration > 100:\n",
    "        break\n",
    "    \n",
    "    iteration += 1\n",
    "    \n",
    "    old_action = new_action.copy()"
   ]
  },
  {
   "cell_type": "code",
   "execution_count": 7,
   "metadata": {},
   "outputs": [
    {
     "data": {
      "text/plain": [
       "Text(0, 0.5, 'Optimal Policy')"
      ]
     },
     "execution_count": 7,
     "metadata": {},
     "output_type": "execute_result"
    },
    {
     "data": {
      "image/png": "[encoded data removed]",
      "text/plain": [
       "<Figure size 432x288 with 1 Axes>"
      ]
     },
     "metadata": {
      "needs_background": "light"
     },
     "output_type": "display_data"
    }
   ],
   "source": [
    "plt.plot(range(0,201), new_action)\n",
    "plt.title(\"Policy Iteration (0=Do Nothing, 1=Send Shuttle)\")\n",
    "plt.xlabel('Number of Customers Waiting')\n",
    "plt.ylabel('Optimal Policy')"
   ]
  },
  {
   "cell_type": "code",
   "execution_count": 8,
   "metadata": {},
   "outputs": [
    {
     "data": {
      "text/plain": [
       "Text(0, 0.5, 'Optimal Value Function')"
      ]
     },
     "execution_count": 8,
     "metadata": {},
     "output_type": "execute_result"
    },
    {
     "data": {
      "image/png": "[encoded data removed]",
      "text/plain": [
       "<Figure size 432x288 with 1 Axes>"
      ]
     },
     "metadata": {
      "needs_background": "light"
     },
     "output_type": "display_data"
    }
   ],
   "source": [
    "plt.plot(range(0,201), val)\n",
    "plt.title(\"Policy Iteration\")\n",
    "plt.xlabel('Number of Customers Waiting')\n",
    "plt.ylabel('Optimal Value Function')"
   ]
  },
  {
   "cell_type": "markdown",
   "metadata": {},
   "source": [
    "##### We can see that the enumeration, value iteration, and policy iteration functions all converge to the same optimal value function, which we expected. Also, the optimal policy is to start sending shuttles from the 11 or more people standing in line"
   ]
  },
  {
   "cell_type": "markdown",
   "metadata": {},
   "source": [
    "# Part 2"
   ]
  },
  {
   "cell_type": "markdown",
   "metadata": {},
   "source": [
    "Assume that there are 5 types of customers with ch = {1, 1.5, 2, 2.5, 3} and each type can have maximum 100 people of each class waiting for shuttle and At for each class follows same distribution. Capacity of the shuttle is K = 30."
   ]
  },
  {
   "cell_type": "markdown",
   "metadata": {},
   "source": [
    "##### I had to interrupt because it couldn't even run through one iteration. Even for 1 iteration, it has to go through all of the states (101^5) and calculate the value/policy for each possible state. So we small changes to the problem has an enormous impact on computational complexity."
   ]
  },
  {
   "cell_type": "markdown",
   "metadata": {},
   "source": [
    "### Enumeration"
   ]
  },
  {
   "cell_type": "code",
   "execution_count": 12,
   "metadata": {},
   "outputs": [
    {
     "ename": "KeyboardInterrupt",
     "evalue": "",
     "output_type": "error",
     "traceback": [
      "\u001b[0;31m---------------------------------------------------------------------------\u001b[0m",
      "\u001b[0;31mKeyboardInterrupt\u001b[0m                         Traceback (most recent call last)",
      "\u001b[0;32m<ipython-input-12-4587357bdcc6>\u001b[0m in \u001b[0;36m<module>\u001b[0;34m\u001b[0m\n\u001b[1;32m     32\u001b[0m                     \u001b[0;32mif\u001b[0m \u001b[0;34m(\u001b[0m\u001b[0mpossible_next_state\u001b[0m\u001b[0;34m[\u001b[0m\u001b[0mj\u001b[0m\u001b[0;34m]\u001b[0m \u001b[0;34m>=\u001b[0m \u001b[0;36m0\u001b[0m\u001b[0;34m)\u001b[0m \u001b[0;32mand\u001b[0m \u001b[0;34m(\u001b[0m\u001b[0mpossible_next_state\u001b[0m\u001b[0;34m[\u001b[0m\u001b[0mj\u001b[0m\u001b[0;34m]\u001b[0m \u001b[0;34m<=\u001b[0m \u001b[0;36m100\u001b[0m\u001b[0;34m)\u001b[0m\u001b[0;34m:\u001b[0m\u001b[0;34m\u001b[0m\u001b[0;34m\u001b[0m\u001b[0m\n\u001b[1;32m     33\u001b[0m                         \u001b[0mpossible_next_states\u001b[0m\u001b[0;34m.\u001b[0m\u001b[0mappend\u001b[0m\u001b[0;34m(\u001b[0m\u001b[0mpossible_next_state\u001b[0m\u001b[0;34m)\u001b[0m\u001b[0;34m\u001b[0m\u001b[0;34m\u001b[0m\u001b[0m\n\u001b[0;32m---> 34\u001b[0;31m                         possible_values_0.append(sum([(ind[0]+2)/-2.0 * item for ind, item in np.ndenumerate(possible_next_state)]) \\\n\u001b[0m\u001b[1;32m     35\u001b[0m                         + discount_rate * next_val[tuple(possible_next_state)])\n\u001b[1;32m     36\u001b[0m                     \u001b[0;32mif\u001b[0m \u001b[0;34m(\u001b[0m\u001b[0;34m(\u001b[0m\u001b[0mpossible_next_state\u001b[0m\u001b[0;34m[\u001b[0m\u001b[0mj\u001b[0m\u001b[0;34m]\u001b[0m \u001b[0;34m-\u001b[0m \u001b[0;36m15\u001b[0m\u001b[0;34m)\u001b[0m \u001b[0;34m>=\u001b[0m \u001b[0;36m0\u001b[0m\u001b[0;34m)\u001b[0m\u001b[0;34m:\u001b[0m\u001b[0;34m\u001b[0m\u001b[0;34m\u001b[0m\u001b[0m\n",
      "\u001b[0;32m<ipython-input-12-4587357bdcc6>\u001b[0m in \u001b[0;36m<listcomp>\u001b[0;34m(.0)\u001b[0m\n\u001b[1;32m     32\u001b[0m                     \u001b[0;32mif\u001b[0m \u001b[0;34m(\u001b[0m\u001b[0mpossible_next_state\u001b[0m\u001b[0;34m[\u001b[0m\u001b[0mj\u001b[0m\u001b[0;34m]\u001b[0m \u001b[0;34m>=\u001b[0m \u001b[0;36m0\u001b[0m\u001b[0;34m)\u001b[0m \u001b[0;32mand\u001b[0m \u001b[0;34m(\u001b[0m\u001b[0mpossible_next_state\u001b[0m\u001b[0;34m[\u001b[0m\u001b[0mj\u001b[0m\u001b[0;34m]\u001b[0m \u001b[0;34m<=\u001b[0m \u001b[0;36m100\u001b[0m\u001b[0;34m)\u001b[0m\u001b[0;34m:\u001b[0m\u001b[0;34m\u001b[0m\u001b[0;34m\u001b[0m\u001b[0m\n\u001b[1;32m     33\u001b[0m                         \u001b[0mpossible_next_states\u001b[0m\u001b[0;34m.\u001b[0m\u001b[0mappend\u001b[0m\u001b[0;34m(\u001b[0m\u001b[0mpossible_next_state\u001b[0m\u001b[0;34m)\u001b[0m\u001b[0;34m\u001b[0m\u001b[0;34m\u001b[0m\u001b[0m\n\u001b[0;32m---> 34\u001b[0;31m                         possible_values_0.append(sum([(ind[0]+2)/-2.0 * item for ind, item in np.ndenumerate(possible_next_state)]) \\\n\u001b[0m\u001b[1;32m     35\u001b[0m                         + discount_rate * next_val[tuple(possible_next_state)])\n\u001b[1;32m     36\u001b[0m                     \u001b[0;32mif\u001b[0m \u001b[0;34m(\u001b[0m\u001b[0;34m(\u001b[0m\u001b[0mpossible_next_state\u001b[0m\u001b[0;34m[\u001b[0m\u001b[0mj\u001b[0m\u001b[0;34m]\u001b[0m \u001b[0;34m-\u001b[0m \u001b[0;36m15\u001b[0m\u001b[0;34m)\u001b[0m \u001b[0;34m>=\u001b[0m \u001b[0;36m0\u001b[0m\u001b[0;34m)\u001b[0m\u001b[0;34m:\u001b[0m\u001b[0;34m\u001b[0m\u001b[0;34m\u001b[0m\u001b[0m\n",
      "\u001b[0;31mKeyboardInterrupt\u001b[0m: "
     ]
    }
   ],
   "source": [
    "next_val = np.zeros((101, 101, 101, 101, 101))\n",
    "val = np.zeros((101, 101, 101, 101, 101))\n",
    "\n",
    "discount_rate = 0.95\n",
    "\n",
    "for iteration in reversed(range(0, 501)):\n",
    "    for ind, item in np.ndenumerate(val):\n",
    "        possible_next_states = []\n",
    "        possible_values_0 = []\n",
    "        possible_values_1 = []\n",
    "        current_state = list(ind)\n",
    "        \n",
    "        for j in range(0,5):\n",
    "            possible_next_state = list(ind)\n",
    "            possible_next_state[j] = possible_next_state[j] + 1\n",
    "            if (possible_next_state[j] >= 0) and (possible_next_state[j] <= 100):\n",
    "                possible_next_states.append(possible_next_state)\n",
    "                possible_values_0.append(sum([(ind[0]+2)/-2.0 * item for ind, item in np.ndenumerate(possible_next_state)]) \\\n",
    "                + discount_rate * next_val[tuple(possible_next_state)])\n",
    "            if ((possible_next_state[j] - 15) >= 0):\n",
    "                possible_next_state[j] = possible_next_state[j] - 30\n",
    "                possible_next_states.append(possible_next_state)\n",
    "                possible_values_1.append(sum([(ind[0]+2)/-2.0 * item for ind, item in np.ndenumerate(possible_next_state)]) \\\n",
    "                + discount_rate * next_val[tuple(possible_next_state)] - 100)\n",
    "        for i in range(1,5):\n",
    "            poss_next_states = possible_next_states.copy()\n",
    "            possible_next_states = []\n",
    "            for j in range(0,5):\n",
    "                for item in poss_next_states:\n",
    "                    possible_next_state = item.copy()\n",
    "                    possible_next_state[j] = possible_next_state[j] + 1\n",
    "                    if (possible_next_state[j] >= 0) and (possible_next_state[j] <= 100):\n",
    "                        possible_next_states.append(possible_next_state)\n",
    "                        possible_values_0.append(sum([(ind[0]+2)/-2.0 * item for ind, item in np.ndenumerate(possible_next_state)]) \\\n",
    "                        + discount_rate * next_val[tuple(possible_next_state)])\n",
    "                    if ((possible_next_state[j] - 15) >= 0):\n",
    "                        possible_next_state[j] = possible_next_state[j] - 30\n",
    "                        possible_next_states.append(possible_next_state)\n",
    "                        possible_values_1.append(sum([(ind[0]+2)/-2.0 * item for ind, item in np.ndenumerate(possible_next_state)]) \\\n",
    "                        + discount_rate * next_val[tuple(possible_next_state)] - 100)\n",
    "        if ((len(possible_values_1) > 0) and (len(possible_values_0) > 0)):\n",
    "            next_val[ind] = max((sum(possible_values_1)/len(possible_values_1)),\n",
    "                                (sum(possible_values_0)/len(possible_values_0)))\n",
    "        elif (len(possible_values_1) > 0):\n",
    "            next_val[ind] = (sum(possible_values_1)/len(possible_values_1))\n",
    "        elif (len(possible_values_0) > 0):\n",
    "            next_val[ind] = (sum(possible_values_0)/len(possible_values_0))\n",
    "    val = next_val\n",
    "    print(iteration)\n",
    "    \n",
    "    "
   ]
  },
  {
   "cell_type": "code",
   "execution_count": 11,
   "metadata": {},
   "outputs": [
    {
     "ename": "KeyboardInterrupt",
     "evalue": "",
     "output_type": "error",
     "traceback": [
      "\u001b[0;31m---------------------------------------------------------------------------\u001b[0m",
      "\u001b[0;31mKeyboardInterrupt\u001b[0m                         Traceback (most recent call last)",
      "\u001b[0;32m<ipython-input-11-7e6e38f6a729>\u001b[0m in \u001b[0;36m<module>\u001b[0;34m\u001b[0m\n\u001b[1;32m     32\u001b[0m                     \u001b[0;32mif\u001b[0m \u001b[0;34m(\u001b[0m\u001b[0mpossible_next_state\u001b[0m\u001b[0;34m[\u001b[0m\u001b[0mj\u001b[0m\u001b[0;34m]\u001b[0m \u001b[0;34m>=\u001b[0m \u001b[0;36m0\u001b[0m\u001b[0;34m)\u001b[0m \u001b[0;32mand\u001b[0m \u001b[0;34m(\u001b[0m\u001b[0mpossible_next_state\u001b[0m\u001b[0;34m[\u001b[0m\u001b[0mj\u001b[0m\u001b[0;34m]\u001b[0m \u001b[0;34m<=\u001b[0m \u001b[0;36m100\u001b[0m\u001b[0;34m)\u001b[0m\u001b[0;34m:\u001b[0m\u001b[0;34m\u001b[0m\u001b[0;34m\u001b[0m\u001b[0m\n\u001b[1;32m     33\u001b[0m                         \u001b[0mpossible_next_states\u001b[0m\u001b[0;34m.\u001b[0m\u001b[0mappend\u001b[0m\u001b[0;34m(\u001b[0m\u001b[0mpossible_next_state\u001b[0m\u001b[0;34m)\u001b[0m\u001b[0;34m\u001b[0m\u001b[0;34m\u001b[0m\u001b[0m\n\u001b[0;32m---> 34\u001b[0;31m                         possible_values_0.append(sum([(ind[0]+2)/-2.0 * item for ind, item in np.ndenumerate(possible_next_state)]) \\\n\u001b[0m\u001b[1;32m     35\u001b[0m                         + discount_rate * next_val[tuple(possible_next_state)])\n\u001b[1;32m     36\u001b[0m                     \u001b[0;32mif\u001b[0m \u001b[0;34m(\u001b[0m\u001b[0;34m(\u001b[0m\u001b[0mpossible_next_state\u001b[0m\u001b[0;34m[\u001b[0m\u001b[0mj\u001b[0m\u001b[0;34m]\u001b[0m \u001b[0;34m-\u001b[0m \u001b[0;36m15\u001b[0m\u001b[0;34m)\u001b[0m \u001b[0;34m>=\u001b[0m \u001b[0;36m0\u001b[0m\u001b[0;34m)\u001b[0m\u001b[0;34m:\u001b[0m\u001b[0;34m\u001b[0m\u001b[0;34m\u001b[0m\u001b[0m\n",
      "\u001b[0;32m~/anaconda3/lib/python3.7/site-packages/numpy/lib/index_tricks.py\u001b[0m in \u001b[0;36m__init__\u001b[0;34m(self, arr)\u001b[0m\n\u001b[1;32m    579\u001b[0m \u001b[0;34m\u001b[0m\u001b[0m\n\u001b[1;32m    580\u001b[0m     \u001b[0;32mdef\u001b[0m \u001b[0m__init__\u001b[0m\u001b[0;34m(\u001b[0m\u001b[0mself\u001b[0m\u001b[0;34m,\u001b[0m \u001b[0marr\u001b[0m\u001b[0;34m)\u001b[0m\u001b[0;34m:\u001b[0m\u001b[0;34m\u001b[0m\u001b[0;34m\u001b[0m\u001b[0m\n\u001b[0;32m--> 581\u001b[0;31m         \u001b[0mself\u001b[0m\u001b[0;34m.\u001b[0m\u001b[0miter\u001b[0m \u001b[0;34m=\u001b[0m \u001b[0masarray\u001b[0m\u001b[0;34m(\u001b[0m\u001b[0marr\u001b[0m\u001b[0;34m)\u001b[0m\u001b[0;34m.\u001b[0m\u001b[0mflat\u001b[0m\u001b[0;34m\u001b[0m\u001b[0;34m\u001b[0m\u001b[0m\n\u001b[0m\u001b[1;32m    582\u001b[0m \u001b[0;34m\u001b[0m\u001b[0m\n\u001b[1;32m    583\u001b[0m     \u001b[0;32mdef\u001b[0m \u001b[0m__next__\u001b[0m\u001b[0;34m(\u001b[0m\u001b[0mself\u001b[0m\u001b[0;34m)\u001b[0m\u001b[0;34m:\u001b[0m\u001b[0;34m\u001b[0m\u001b[0;34m\u001b[0m\u001b[0m\n",
      "\u001b[0;32m~/anaconda3/lib/python3.7/site-packages/numpy/core/numeric.py\u001b[0m in \u001b[0;36masarray\u001b[0;34m(a, dtype, order)\u001b[0m\n\u001b[1;32m    536\u001b[0m \u001b[0;34m\u001b[0m\u001b[0m\n\u001b[1;32m    537\u001b[0m     \"\"\"\n\u001b[0;32m--> 538\u001b[0;31m     \u001b[0;32mreturn\u001b[0m \u001b[0marray\u001b[0m\u001b[0;34m(\u001b[0m\u001b[0ma\u001b[0m\u001b[0;34m,\u001b[0m \u001b[0mdtype\u001b[0m\u001b[0;34m,\u001b[0m \u001b[0mcopy\u001b[0m\u001b[0;34m=\u001b[0m\u001b[0;32mFalse\u001b[0m\u001b[0;34m,\u001b[0m \u001b[0morder\u001b[0m\u001b[0;34m=\u001b[0m\u001b[0morder\u001b[0m\u001b[0;34m)\u001b[0m\u001b[0;34m\u001b[0m\u001b[0;34m\u001b[0m\u001b[0m\n\u001b[0m\u001b[1;32m    539\u001b[0m \u001b[0;34m\u001b[0m\u001b[0m\n\u001b[1;32m    540\u001b[0m \u001b[0;34m\u001b[0m\u001b[0m\n",
      "\u001b[0;31mKeyboardInterrupt\u001b[0m: "
     ]
    }
   ],
   "source": [
    "next_val = np.zeros((101, 101, 101, 101, 101))\n",
    "val = np.zeros((101, 101, 101, 101, 101))\n",
    "\n",
    "discount_rate = 0.95\n",
    "\n",
    "for iteration in reversed(range(0, 501)):\n",
    "    for ind, item in np.ndenumerate(val):\n",
    "        possible_next_states = []\n",
    "        possible_values_0 = []\n",
    "        possible_values_1 = []\n",
    "        current_state = list(ind)\n",
    "        \n",
    "        for j in range(0,5):\n",
    "            possible_next_state = list(ind)\n",
    "            possible_next_state[j] = possible_next_state[j] + 1\n",
    "            if (possible_next_state[j] >= 0) and (possible_next_state[j] <= 100):\n",
    "                possible_next_states.append(possible_next_state)\n",
    "                possible_values_0.append(sum([(ind[0]+2)/-2.0 * item for ind, item in np.ndenumerate(possible_next_state)]) \\\n",
    "                + discount_rate * next_val[tuple(possible_next_state)])\n",
    "            if ((possible_next_state[j] - 15) >= 0):\n",
    "                possible_next_state[j] = possible_next_state[j] - 30\n",
    "                possible_next_states.append(possible_next_state)\n",
    "                possible_values_1.append(sum([(ind[0]+2)/-2.0 * item for ind, item in np.ndenumerate(possible_next_state)]) \\\n",
    "                + discount_rate * next_val[tuple(possible_next_state)] - 100)\n",
    "        for i in range(1,5):\n",
    "            poss_next_states = possible_next_states.copy()\n",
    "            possible_next_states = []\n",
    "            for j in range(0,5):\n",
    "                for item in poss_next_states:\n",
    "                    possible_next_state = item.copy()\n",
    "                    possible_next_state[j] = possible_next_state[j] + 1\n",
    "                    if (possible_next_state[j] >= 0) and (possible_next_state[j] <= 100):\n",
    "                        possible_next_states.append(possible_next_state)\n",
    "                        possible_values_0.append(sum([(ind[0]+2)/-2.0 * item for ind, item in np.ndenumerate(possible_next_state)]) \\\n",
    "                        + discount_rate * next_val[tuple(possible_next_state)])\n",
    "                    if ((possible_next_state[j] - 15) >= 0):\n",
    "                        possible_next_state[j] = possible_next_state[j] - 30\n",
    "                        possible_next_states.append(possible_next_state)\n",
    "                        possible_values_1.append(sum([(ind[0]+2)/-2.0 * item for ind, item in np.ndenumerate(possible_next_state)]) \\\n",
    "                        + discount_rate * next_val[tuple(possible_next_state)] - 100)\n",
    "        if ((len(possible_values_1) > 0) and (len(possible_values_0) > 0)):\n",
    "            next_val[ind] = max((sum(possible_values_1)/len(possible_values_1)),\n",
    "                                (sum(possible_values_0)/len(possible_values_0)))\n",
    "        elif (len(possible_values_1) > 0):\n",
    "            next_val[ind] = (sum(possible_values_1)/len(possible_values_1))\n",
    "        elif (len(possible_values_0) > 0):\n",
    "            next_val[ind] = (sum(possible_values_0)/len(possible_values_0))\n",
    "    if (np.sum(np.abs(val - next_val)) < epsil):\n",
    "        break\n",
    "    val = next_val\n",
    "    print(iteration)\n",
    "    iteration += 1"
   ]
  },
  {
   "cell_type": "code",
   "execution_count": 13,
   "metadata": {},
   "outputs": [
    {
     "ename": "KeyboardInterrupt",
     "evalue": "",
     "output_type": "error",
     "traceback": [
      "\u001b[0;31m---------------------------------------------------------------------------\u001b[0m",
      "\u001b[0;31mKeyboardInterrupt\u001b[0m                         Traceback (most recent call last)",
      "\u001b[0;32m<ipython-input-13-b8fc5ca8a9d5>\u001b[0m in \u001b[0;36m<module>\u001b[0;34m\u001b[0m\n\u001b[1;32m     33\u001b[0m                     \u001b[0;32mif\u001b[0m \u001b[0;34m(\u001b[0m\u001b[0mpossible_next_state\u001b[0m\u001b[0;34m[\u001b[0m\u001b[0mj\u001b[0m\u001b[0;34m]\u001b[0m \u001b[0;34m>=\u001b[0m \u001b[0;36m0\u001b[0m\u001b[0;34m)\u001b[0m \u001b[0;32mand\u001b[0m \u001b[0;34m(\u001b[0m\u001b[0mpossible_next_state\u001b[0m\u001b[0;34m[\u001b[0m\u001b[0mj\u001b[0m\u001b[0;34m]\u001b[0m \u001b[0;34m<=\u001b[0m \u001b[0;36m100\u001b[0m\u001b[0;34m)\u001b[0m\u001b[0;34m:\u001b[0m\u001b[0;34m\u001b[0m\u001b[0;34m\u001b[0m\u001b[0m\n\u001b[1;32m     34\u001b[0m                         \u001b[0mpossible_next_states\u001b[0m\u001b[0;34m.\u001b[0m\u001b[0mappend\u001b[0m\u001b[0;34m(\u001b[0m\u001b[0mpossible_next_state\u001b[0m\u001b[0;34m)\u001b[0m\u001b[0;34m\u001b[0m\u001b[0;34m\u001b[0m\u001b[0m\n\u001b[0;32m---> 35\u001b[0;31m                         possible_values_0.append(sum([(ind[0]+2)/-2.0 * item for ind, item in np.ndenumerate(possible_next_state)]) \\\n\u001b[0m\u001b[1;32m     36\u001b[0m                         + discount_rate * next_val[tuple(possible_next_state)])\n\u001b[1;32m     37\u001b[0m                     \u001b[0;32mif\u001b[0m \u001b[0;34m(\u001b[0m\u001b[0;34m(\u001b[0m\u001b[0mpossible_next_state\u001b[0m\u001b[0;34m[\u001b[0m\u001b[0mj\u001b[0m\u001b[0;34m]\u001b[0m \u001b[0;34m-\u001b[0m \u001b[0;36m15\u001b[0m\u001b[0;34m)\u001b[0m \u001b[0;34m>=\u001b[0m \u001b[0;36m0\u001b[0m\u001b[0;34m)\u001b[0m\u001b[0;34m:\u001b[0m\u001b[0;34m\u001b[0m\u001b[0;34m\u001b[0m\u001b[0m\n",
      "\u001b[0;32m<ipython-input-13-b8fc5ca8a9d5>\u001b[0m in \u001b[0;36m<listcomp>\u001b[0;34m(.0)\u001b[0m\n\u001b[1;32m     33\u001b[0m                     \u001b[0;32mif\u001b[0m \u001b[0;34m(\u001b[0m\u001b[0mpossible_next_state\u001b[0m\u001b[0;34m[\u001b[0m\u001b[0mj\u001b[0m\u001b[0;34m]\u001b[0m \u001b[0;34m>=\u001b[0m \u001b[0;36m0\u001b[0m\u001b[0;34m)\u001b[0m \u001b[0;32mand\u001b[0m \u001b[0;34m(\u001b[0m\u001b[0mpossible_next_state\u001b[0m\u001b[0;34m[\u001b[0m\u001b[0mj\u001b[0m\u001b[0;34m]\u001b[0m \u001b[0;34m<=\u001b[0m \u001b[0;36m100\u001b[0m\u001b[0;34m)\u001b[0m\u001b[0;34m:\u001b[0m\u001b[0;34m\u001b[0m\u001b[0;34m\u001b[0m\u001b[0m\n\u001b[1;32m     34\u001b[0m                         \u001b[0mpossible_next_states\u001b[0m\u001b[0;34m.\u001b[0m\u001b[0mappend\u001b[0m\u001b[0;34m(\u001b[0m\u001b[0mpossible_next_state\u001b[0m\u001b[0;34m)\u001b[0m\u001b[0;34m\u001b[0m\u001b[0;34m\u001b[0m\u001b[0m\n\u001b[0;32m---> 35\u001b[0;31m                         possible_values_0.append(sum([(ind[0]+2)/-2.0 * item for ind, item in np.ndenumerate(possible_next_state)]) \\\n\u001b[0m\u001b[1;32m     36\u001b[0m                         + discount_rate * next_val[tuple(possible_next_state)])\n\u001b[1;32m     37\u001b[0m                     \u001b[0;32mif\u001b[0m \u001b[0;34m(\u001b[0m\u001b[0;34m(\u001b[0m\u001b[0mpossible_next_state\u001b[0m\u001b[0;34m[\u001b[0m\u001b[0mj\u001b[0m\u001b[0;34m]\u001b[0m \u001b[0;34m-\u001b[0m \u001b[0;36m15\u001b[0m\u001b[0;34m)\u001b[0m \u001b[0;34m>=\u001b[0m \u001b[0;36m0\u001b[0m\u001b[0;34m)\u001b[0m\u001b[0;34m:\u001b[0m\u001b[0;34m\u001b[0m\u001b[0;34m\u001b[0m\u001b[0m\n",
      "\u001b[0;31mKeyboardInterrupt\u001b[0m: "
     ]
    }
   ],
   "source": [
    "next_val = np.zeros((101, 101, 101, 101, 101))\n",
    "val = np.zeros((101, 101, 101, 101, 101))\n",
    "\n",
    "discount_rate = 0.95\n",
    "iteration = 0\n",
    "\n",
    "while True:\n",
    "    for ind, item in np.ndenumerate(val):\n",
    "        possible_next_states = []\n",
    "        possible_values_0 = []\n",
    "        possible_values_1 = []\n",
    "        current_state = list(ind)\n",
    "        \n",
    "        for j in range(0,5):\n",
    "            possible_next_state = list(ind)\n",
    "            possible_next_state[j] = possible_next_state[j] + 1\n",
    "            if (possible_next_state[j] >= 0) and (possible_next_state[j] <= 100):\n",
    "                possible_next_states.append(possible_next_state)\n",
    "                possible_values_0.append(sum([(ind[0]+2)/-2.0 * item for ind, item in np.ndenumerate(possible_next_state)]) \\\n",
    "                + discount_rate * next_val[tuple(possible_next_state)])\n",
    "            if ((possible_next_state[j] - 15) >= 0):\n",
    "                possible_next_state[j] = possible_next_state[j] - 30\n",
    "                possible_next_states.append(possible_next_state)\n",
    "                possible_values_1.append(sum([(ind[0]+2)/-2.0 * item for ind, item in np.ndenumerate(possible_next_state)]) \\\n",
    "                + discount_rate * next_val[tuple(possible_next_state)] - 100)\n",
    "        for i in range(1,5):\n",
    "            poss_next_states = possible_next_states.copy()\n",
    "            possible_next_states = []\n",
    "            for j in range(0,5):\n",
    "                for item in poss_next_states:\n",
    "                    possible_next_state = item.copy()\n",
    "                    possible_next_state[j] = possible_next_state[j] + 1\n",
    "                    if (possible_next_state[j] >= 0) and (possible_next_state[j] <= 100):\n",
    "                        possible_next_states.append(possible_next_state)\n",
    "                        possible_values_0.append(sum([(ind[0]+2)/-2.0 * item for ind, item in np.ndenumerate(possible_next_state)]) \\\n",
    "                        + discount_rate * next_val[tuple(possible_next_state)])\n",
    "                    if ((possible_next_state[j] - 15) >= 0):\n",
    "                        possible_next_state[j] = possible_next_state[j] - 30\n",
    "                        possible_next_states.append(possible_next_state)\n",
    "                        possible_values_1.append(sum([(ind[0]+2)/-2.0 * item for ind, item in np.ndenumerate(possible_next_state)]) \\\n",
    "                        + discount_rate * next_val[tuple(possible_next_state)] - 100)\n",
    "        if ((len(possible_values_1) > 0) and (len(possible_values_0) > 0)):\n",
    "            next_val[ind] = 1*((sum(possible_values_1)/len(possible_values_1)) > \\\n",
    "                                (sum(possible_values_0)/len(possible_values_0)))\n",
    "        elif (len(possible_values_1) > 0):\n",
    "            next_val[ind] = 1\n",
    "        elif (len(possible_values_0) > 0):\n",
    "            next_val[ind] = 0\n",
    "    val = next_val\n",
    "    if np.array_equal(next_val, val):\n",
    "        break\n",
    "    val = next_val\n",
    "    print(iteration)\n",
    "    iteration += 1"
   ]
  }
 ],
 "metadata": {
  "kernelspec": {
   "display_name": "Python 3",
   "language": "python",
   "name": "python3"
  },
  "language_info": {
   "codemirror_mode": {
    "name": "ipython",
    "version": 3
   },
   "file_extension": ".py",
   "mimetype": "text/x-python",
   "name": "python",
   "nbconvert_exporter": "python",
   "pygments_lexer": "ipython3",
   "version": "3.7.3"
  }
 },
 "nbformat": 4,
 "nbformat_minor": 2
}
